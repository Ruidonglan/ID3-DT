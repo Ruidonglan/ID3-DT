{
 "cells": [
  {
   "cell_type": "markdown",
   "metadata": {},
   "source": [
    "### Head"
   ]
  },
  {
   "cell_type": "code",
   "execution_count": 11,
   "metadata": {
    "collapsed": true
   },
   "outputs": [],
   "source": [
    "from math import log\n",
    "import copy\n",
    "import arff"
   ]
  },
  {
   "cell_type": "markdown",
   "metadata": {},
   "source": [
    "### Calculate Entropy"
   ]
  },
  {
   "cell_type": "code",
   "execution_count": 12,
   "metadata": {
    "collapsed": true
   },
   "outputs": [],
   "source": [
    "def calEn(data_train):\n",
    "    \n",
    "    total = len(data_train)#the number of the total examples\n",
    "    \n",
    "    labels = {} #the label dict,where the value of each label is the total number of it.\n",
    "    \n",
    "    for instance in data_train:\n",
    "        in1 = instance[-1]\n",
    "        if in1 not in labels.keys():\n",
    "            labels[in1] = 1\n",
    "        else:\n",
    "            labels[in1] += 1     \n",
    "    \n",
    "    en = float(0) # the entropy of this dataset\n",
    "    \n",
    "    for in2 in labels:\n",
    "        p = labels[in2]/float(total)\n",
    "        en -= p * log(p,2)\n",
    "    return(en)"
   ]
  },
  {
   "cell_type": "markdown",
   "metadata": {},
   "source": [
    "### Data Split:\n",
    "1. Normal split:\n",
    "2. Numerical split:"
   ]
  },
  {
   "cell_type": "code",
   "execution_count": 13,
   "metadata": {
    "collapsed": true
   },
   "outputs": [],
   "source": [
    "def dataSplit(dataset, feature , value):\n",
    "    # in this function, the feature is given by the number in it\n",
    "    # the first argument is the position, the second one is the value for this point\n",
    "    newdata = []\n",
    "    for example in dataset:\n",
    "            if example[feature] == value:\n",
    "                temp = example[:feature]\n",
    "                temp.extend(example[feature+1:])\n",
    "                newdata.append(temp) #this step will append the newdata\n",
    "    return(newdata)\n",
    "\n",
    "def helpNum(numlist):\n",
    "    #unique first and then do the sort thing\n",
    "    numlist = list(set(numlist))\n",
    "    numlist.sort()\n",
    "    l = len(numlist)\n",
    "    midpoints = []\n",
    "    for i in range(1,l):\n",
    "        midpoints.append( (numlist[i-1]+numlist[i])/2  )\n",
    "    return(midpoints)\n",
    "\n",
    "def dataSplitNum(data_train, feature , mid ):\n",
    "    #this function will return the data splited by the given numerical feature:\n",
    "    newdataLow = []\n",
    "    newdataHigh = []\n",
    "    for example in data_train:\n",
    "        if example[feature] < mid:\n",
    "            temp = copy.copy(example)\n",
    "            newdataLow.append(temp)\n",
    "        else:\n",
    "            temp2 = copy.copy(example)\n",
    "            newdataHigh.append(temp2)\n",
    "    return(newdataLow,newdataHigh) "
   ]
  },
  {
   "cell_type": "markdown",
   "metadata": {},
   "source": [
    "### Find best Mid points/ Feature to split:"
   ]
  },
  {
   "cell_type": "code",
   "execution_count": 14,
   "metadata": {
    "collapsed": true
   },
   "outputs": [],
   "source": [
    "def bestNumMid(data_train, label):\n",
    "    # the total entropy before the split\n",
    "    all_ent = calEn(data_train)\n",
    "    values = [example[label] for example in data_train]\n",
    "    midvalues = helpNum(values)\n",
    "    #do the entropy calculation:\n",
    "    infoGain = 0.0\n",
    "    resultpoint = None\n",
    "    l = len(midvalues)\n",
    "    for i in range(l):\n",
    "        mid = midvalues[i]\n",
    "        temp_en = 0.0\n",
    "        new1, new2 = dataSplitNum(data_train, label , mid)\n",
    "        temp_en += calEn(new1)\n",
    "        temp_en += calEn(new2)\n",
    "        temp_infoGain = all_ent - temp_en\n",
    "        if(temp_infoGain  > infoGain):\n",
    "            resultpoint = mid\n",
    "            infoGain = temp_infoGain\n",
    "    return(resultpoint,infoGain)\n",
    "\n",
    "\n",
    "def findBestsplit(data_train):\n",
    "    \n",
    "    # the total entropy before the split\n",
    "    all_ent = calEn(data_train)\n",
    "    # the total number of features\n",
    "    fe_len = len(data_train[0])-1\n",
    "    infoGain = float(0)\n",
    "    \n",
    "    result_feature = None\n",
    "    midvaluefornumeric = None\n",
    "    \n",
    "    for i in range(fe_len):\n",
    "        temp_entropy = float(0)\n",
    "        \n",
    "        feat = data_train[0][i]\n",
    "        \n",
    "        if type(feat) == int or type(feat) == float:\n",
    "            temp_midvalue,temp_infoGain = bestNumMid(data_train ,i )\n",
    "            if(temp_infoGain > infoGain):\n",
    "                infoGain = temp_infoGain\n",
    "                result_feature = i\n",
    "                midvaluefornumeric = temp_midvalue           \n",
    "        else:\n",
    "            featurelist = []\n",
    "            for example in data_train:\n",
    "                if example[i] in featurelist:\n",
    "                    pass\n",
    "                else:\n",
    "                    featurelist.append(example[i])       \n",
    "            for feature in featurelist:\n",
    "                kset = dataSplit(data_train , i , feature )\n",
    "                temp_entropy += calEn(kset)\n",
    "            temp_infoGain = all_ent - temp_entropy\n",
    "            if (temp_infoGain > infoGain): # Since we only change the reslut_feature if it's equal and smaller,thus, this will work\n",
    "                infoGain = temp_infoGain\n",
    "                result_feature = i\n",
    "            \n",
    "    return(result_feature , midvaluefornumeric)\n"
   ]
  },
  {
   "cell_type": "markdown",
   "metadata": {},
   "source": [
    "### Make the Node, Make a Tree:"
   ]
  },
  {
   "cell_type": "code",
   "execution_count": 32,
   "metadata": {
    "collapsed": true
   },
   "outputs": [],
   "source": [
    "def MakeNode(classes):\n",
    "    # this fucntion will return a dict which will take the majoity of this class to be the node\n",
    "    #create a dict to store the node\n",
    "    number = {}\n",
    "    for each in classes:\n",
    "        if each in number:\n",
    "            number[each] +=1\n",
    "        else:\n",
    "            number[each] =1\n",
    "    #sort the dict by their number:\n",
    "    new_number = sorted(number.items(), key = lambda item:item[1], reverse = True)\n",
    "    return(new_number[0][0])"
   ]
  },
  {
   "cell_type": "code",
   "execution_count": 19,
   "metadata": {
    "collapsed": true
   },
   "outputs": [],
   "source": [
    "def MakeTreeM(data_train , labels):\n",
    "    \n",
    "    classes = [example[-1] for example in data_train]# the calsssse of the dataset\n",
    "    \n",
    "    #If data_set all belong to one class   ##or we have fewer than m instances\n",
    "    if classes.count(classes[0]) == len(classes): #or len(data_train) < m:\n",
    "        return(classes[0])\n",
    "    \n",
    "    #or we will end at the point when there is only one class and we will return the label which has showd a lot\n",
    "    elif  len(data_train[0]) <= 5:\n",
    "        return(MakeNode(classes))\n",
    "    \n",
    "    else:\n",
    "        # Add a new node to the end of last chain\n",
    "        S , M = findBestsplit(data_train)\n",
    "        print(S)\n",
    "        \n",
    "        # what if S is None?\n",
    "        #if S is None:\n",
    "         #   return(MakeNode(classes))\n",
    "\n",
    "        if M is None:\n",
    "            Node_Name = labels[S]\n",
    "        else:\n",
    "            Node_Name = labels[S] + '<' + str(M)\n",
    "        \n",
    "        #Create our Tree:\n",
    "        Tree = {Node_Name:{}}\n",
    "        \n",
    "        # the core part where we make a tree:\n",
    "        if M is None:\n",
    "            S_values = [example[S] for example in data_train]\n",
    "            uniqueS_values = set(S_values)\n",
    "            \n",
    "            del(labels[S]) # except the S feature we select from above\n",
    "            for each in uniqueS_values:\n",
    "                print(each)\n",
    "                Dnew = dataSplit(data_train , S , each)\n",
    "                nextlabels = labels[:]\n",
    "                Tree[Node_Name][each] = MakeTreeM(Dnew , nextlabels)\n",
    "                \n",
    "        elif M is not None:\n",
    "            Dnew = dataSplitNum(data_train , S , M)\n",
    "            for i in range(2):\n",
    "                Dnew_temp = Dnew[i]\n",
    "                newlables = labels[:]\n",
    "                Tree[Node_Name][i] = MakeTreeM( Dnew_temp , newlables)\n",
    "            \n",
    "    return(Tree)"
   ]
  },
  {
   "cell_type": "markdown",
   "metadata": {},
   "source": [
    "### test sample:"
   ]
  },
  {
   "cell_type": "code",
   "execution_count": 20,
   "metadata": {},
   "outputs": [
    {
     "name": "stdout",
     "output_type": "stream",
     "text": [
      "[['1', '1', 2, 'yes'], ['1', '1', 1, 'yes'], ['1', '0', 3, 'yes'], ['1', '0', 6, 'no'], ['0', '0', 9, 'no'], ['0', '1', 5, 'no'], ['1', '0', 5, 'no']]\n",
      "['+', '-', 'one']\n",
      "[2, 1, 3, 6, 9, 5, 5]\n"
     ]
    }
   ],
   "source": [
    "def example():\n",
    "    data = [['1','1',2,'yes'],\n",
    "           ['1','1',1,'yes'],\n",
    "           ['1','0',3,'yes'],\n",
    "           ['1','0',6,'no'],\n",
    "           ['0','0',9,'no'],\n",
    "           ['0','1',5,'no'],\n",
    "           ['1','0',5,'no']]\n",
    "    label = ['+','-','one']\n",
    "    return data,label\n",
    "x1,x2 = example()\n",
    "x3 = [2,1,3,6,9,5,5]\n",
    "print(x1)\n",
    "print(x2)\n",
    "print(x3)"
   ]
  },
  {
   "cell_type": "code",
   "execution_count": 21,
   "metadata": {
    "scrolled": true
   },
   "outputs": [
    {
     "ename": "AttributeError",
     "evalue": "'dict' object has no attribute 'key'",
     "output_type": "error",
     "traceback": [
      "\u001b[1;31m---------------------------------------------------------------------------\u001b[0m",
      "\u001b[1;31mAttributeError\u001b[0m                            Traceback (most recent call last)",
      "\u001b[1;32m<ipython-input-21-5488fe10279d>\u001b[0m in \u001b[0;36m<module>\u001b[1;34m()\u001b[0m\n\u001b[1;32m----> 1\u001b[1;33m \u001b[0mMakeTreeM\u001b[0m\u001b[1;33m(\u001b[0m\u001b[0mx1\u001b[0m\u001b[1;33m,\u001b[0m\u001b[0mx2\u001b[0m\u001b[1;33m)\u001b[0m\u001b[1;33m\u001b[0m\u001b[0m\n\u001b[0m",
      "\u001b[1;32m<ipython-input-19-84d9a52ae7fc>\u001b[0m in \u001b[0;36mMakeTreeM\u001b[1;34m(data_train, labels)\u001b[0m\n\u001b[0;32m      9\u001b[0m     \u001b[1;31m#or we will end at the point when there is only one class and we will return the label which has showd a lot\u001b[0m\u001b[1;33m\u001b[0m\u001b[1;33m\u001b[0m\u001b[0m\n\u001b[0;32m     10\u001b[0m     \u001b[1;32melif\u001b[0m  \u001b[0mlen\u001b[0m\u001b[1;33m(\u001b[0m\u001b[0mdata_train\u001b[0m\u001b[1;33m[\u001b[0m\u001b[1;36m0\u001b[0m\u001b[1;33m]\u001b[0m\u001b[1;33m)\u001b[0m \u001b[1;33m<=\u001b[0m \u001b[1;36m5\u001b[0m\u001b[1;33m:\u001b[0m\u001b[1;33m\u001b[0m\u001b[0m\n\u001b[1;32m---> 11\u001b[1;33m         \u001b[1;32mreturn\u001b[0m\u001b[1;33m(\u001b[0m\u001b[0mMakeNode\u001b[0m\u001b[1;33m(\u001b[0m\u001b[0mclasses\u001b[0m\u001b[1;33m)\u001b[0m\u001b[1;33m)\u001b[0m\u001b[1;33m\u001b[0m\u001b[0m\n\u001b[0m\u001b[0;32m     12\u001b[0m \u001b[1;33m\u001b[0m\u001b[0m\n\u001b[0;32m     13\u001b[0m     \u001b[1;32melse\u001b[0m\u001b[1;33m:\u001b[0m\u001b[1;33m\u001b[0m\u001b[0m\n",
      "\u001b[1;32m<ipython-input-15-5089b8839556>\u001b[0m in \u001b[0;36mMakeNode\u001b[1;34m(classes)\u001b[0m\n\u001b[0;32m      4\u001b[0m     \u001b[0mnumber\u001b[0m \u001b[1;33m=\u001b[0m \u001b[1;33m{\u001b[0m\u001b[1;33m}\u001b[0m\u001b[1;33m\u001b[0m\u001b[0m\n\u001b[0;32m      5\u001b[0m     \u001b[1;32mfor\u001b[0m \u001b[0meach\u001b[0m \u001b[1;32min\u001b[0m \u001b[0mclasses\u001b[0m\u001b[1;33m:\u001b[0m\u001b[1;33m\u001b[0m\u001b[0m\n\u001b[1;32m----> 6\u001b[1;33m         \u001b[1;32mif\u001b[0m \u001b[0meach\u001b[0m \u001b[1;32min\u001b[0m \u001b[0mnumber\u001b[0m\u001b[1;33m.\u001b[0m\u001b[0mkey\u001b[0m\u001b[1;33m(\u001b[0m\u001b[1;33m)\u001b[0m\u001b[1;33m:\u001b[0m\u001b[1;33m\u001b[0m\u001b[0m\n\u001b[0m\u001b[0;32m      7\u001b[0m             \u001b[0mnumber\u001b[0m\u001b[1;33m[\u001b[0m\u001b[0meach\u001b[0m\u001b[1;33m]\u001b[0m \u001b[1;33m+=\u001b[0m\u001b[1;36m1\u001b[0m\u001b[1;33m\u001b[0m\u001b[0m\n\u001b[0;32m      8\u001b[0m         \u001b[1;32melse\u001b[0m\u001b[1;33m:\u001b[0m\u001b[1;33m\u001b[0m\u001b[0m\n",
      "\u001b[1;31mAttributeError\u001b[0m: 'dict' object has no attribute 'key'"
     ]
    }
   ],
   "source": [
    "MakeTreeM(x1,x2)"
   ]
  },
  {
   "cell_type": "markdown",
   "metadata": {},
   "source": [
    "### Train_data"
   ]
  },
  {
   "cell_type": "code",
   "execution_count": 26,
   "metadata": {},
   "outputs": [],
   "source": [
    "train_data = arff.load(open('credit_train.arff', 'r'))"
   ]
  },
  {
   "cell_type": "code",
   "execution_count": 27,
   "metadata": {
    "collapsed": true
   },
   "outputs": [],
   "source": [
    "data_train = train_data['data']\n",
    "labels = train_data['attributes']"
   ]
  },
  {
   "cell_type": "code",
   "execution_count": 28,
   "metadata": {
    "collapsed": true
   },
   "outputs": [],
   "source": [
    "labels\n",
    "newlabels = [exampel[0] for exampel in labels]"
   ]
  },
  {
   "cell_type": "code",
   "execution_count": 29,
   "metadata": {
    "scrolled": true
   },
   "outputs": [
    {
     "name": "stdout",
     "output_type": "stream",
     "text": [
      "['A1', 'A2', 'A3', 'A4', 'A5', 'A8', 'A14', 'A15']\n"
     ]
    },
    {
     "data": {
      "text/plain": [
       "[('A1', ['b', 'a']),\n",
       " ('A2', 'REAL'),\n",
       " ('A3', 'REAL'),\n",
       " ('A4', ['u', 'y', 'l', 't']),\n",
       " ('A5', ['g', 'p', 'gg']),\n",
       " ('A8', 'REAL'),\n",
       " ('A14', 'REAL'),\n",
       " ('A15', 'REAL'),\n",
       " ('class', ['+', '-'])]"
      ]
     },
     "execution_count": 29,
     "metadata": {},
     "output_type": "execute_result"
    }
   ],
   "source": [
    "newlabels = newlabels[0:len(newlabels)-1]\n",
    "print(newlabels)\n",
    "labels"
   ]
  },
  {
   "cell_type": "markdown",
   "metadata": {},
   "source": [
    "First try:"
   ]
  },
  {
   "cell_type": "code",
   "execution_count": 31,
   "metadata": {},
   "outputs": [
    {
     "name": "stdout",
     "output_type": "stream",
     "text": [
      "['A1', 'A2', 'A3', 'A4', 'A5', 'A8', 'A14', 'A15']\n",
      "7\n",
      "5\n",
      "6\n",
      "None\n"
     ]
    },
    {
     "ename": "TypeError",
     "evalue": "list indices must be integers or slices, not NoneType",
     "output_type": "error",
     "traceback": [
      "\u001b[1;31m---------------------------------------------------------------------------\u001b[0m",
      "\u001b[1;31mTypeError\u001b[0m                                 Traceback (most recent call last)",
      "\u001b[1;32m<ipython-input-31-630ba3d7b99d>\u001b[0m in \u001b[0;36m<module>\u001b[1;34m()\u001b[0m\n\u001b[0;32m      2\u001b[0m \u001b[0mprint\u001b[0m\u001b[1;33m(\u001b[0m\u001b[0mnewlabels\u001b[0m\u001b[1;33m)\u001b[0m\u001b[1;33m\u001b[0m\u001b[0m\n\u001b[0;32m      3\u001b[0m \u001b[1;33m\u001b[0m\u001b[0m\n\u001b[1;32m----> 4\u001b[1;33m \u001b[0mtree1\u001b[0m \u001b[1;33m=\u001b[0m \u001b[0mMakeTreeM\u001b[0m\u001b[1;33m(\u001b[0m\u001b[0mdata_train\u001b[0m \u001b[1;33m,\u001b[0m \u001b[0mnewlabels\u001b[0m\u001b[1;33m)\u001b[0m\u001b[1;33m\u001b[0m\u001b[0m\n\u001b[0m",
      "\u001b[1;32m<ipython-input-19-84d9a52ae7fc>\u001b[0m in \u001b[0;36mMakeTreeM\u001b[1;34m(data_train, labels)\u001b[0m\n\u001b[0;32m     45\u001b[0m                 \u001b[0mDnew_temp\u001b[0m \u001b[1;33m=\u001b[0m \u001b[0mDnew\u001b[0m\u001b[1;33m[\u001b[0m\u001b[0mi\u001b[0m\u001b[1;33m]\u001b[0m\u001b[1;33m\u001b[0m\u001b[0m\n\u001b[0;32m     46\u001b[0m                 \u001b[0mnewlables\u001b[0m \u001b[1;33m=\u001b[0m \u001b[0mlabels\u001b[0m\u001b[1;33m[\u001b[0m\u001b[1;33m:\u001b[0m\u001b[1;33m]\u001b[0m\u001b[1;33m\u001b[0m\u001b[0m\n\u001b[1;32m---> 47\u001b[1;33m                 \u001b[0mTree\u001b[0m\u001b[1;33m[\u001b[0m\u001b[0mNode_Name\u001b[0m\u001b[1;33m]\u001b[0m\u001b[1;33m[\u001b[0m\u001b[0mi\u001b[0m\u001b[1;33m]\u001b[0m \u001b[1;33m=\u001b[0m \u001b[0mMakeTreeM\u001b[0m\u001b[1;33m(\u001b[0m \u001b[0mDnew_temp\u001b[0m \u001b[1;33m,\u001b[0m \u001b[0mnewlables\u001b[0m\u001b[1;33m)\u001b[0m\u001b[1;33m\u001b[0m\u001b[0m\n\u001b[0m\u001b[0;32m     48\u001b[0m \u001b[1;33m\u001b[0m\u001b[0m\n\u001b[0;32m     49\u001b[0m     \u001b[1;32mreturn\u001b[0m\u001b[1;33m(\u001b[0m\u001b[0mTree\u001b[0m\u001b[1;33m)\u001b[0m\u001b[1;33m\u001b[0m\u001b[0m\n",
      "\u001b[1;32m<ipython-input-19-84d9a52ae7fc>\u001b[0m in \u001b[0;36mMakeTreeM\u001b[1;34m(data_train, labels)\u001b[0m\n\u001b[0;32m     45\u001b[0m                 \u001b[0mDnew_temp\u001b[0m \u001b[1;33m=\u001b[0m \u001b[0mDnew\u001b[0m\u001b[1;33m[\u001b[0m\u001b[0mi\u001b[0m\u001b[1;33m]\u001b[0m\u001b[1;33m\u001b[0m\u001b[0m\n\u001b[0;32m     46\u001b[0m                 \u001b[0mnewlables\u001b[0m \u001b[1;33m=\u001b[0m \u001b[0mlabels\u001b[0m\u001b[1;33m[\u001b[0m\u001b[1;33m:\u001b[0m\u001b[1;33m]\u001b[0m\u001b[1;33m\u001b[0m\u001b[0m\n\u001b[1;32m---> 47\u001b[1;33m                 \u001b[0mTree\u001b[0m\u001b[1;33m[\u001b[0m\u001b[0mNode_Name\u001b[0m\u001b[1;33m]\u001b[0m\u001b[1;33m[\u001b[0m\u001b[0mi\u001b[0m\u001b[1;33m]\u001b[0m \u001b[1;33m=\u001b[0m \u001b[0mMakeTreeM\u001b[0m\u001b[1;33m(\u001b[0m \u001b[0mDnew_temp\u001b[0m \u001b[1;33m,\u001b[0m \u001b[0mnewlables\u001b[0m\u001b[1;33m)\u001b[0m\u001b[1;33m\u001b[0m\u001b[0m\n\u001b[0m\u001b[0;32m     48\u001b[0m \u001b[1;33m\u001b[0m\u001b[0m\n\u001b[0;32m     49\u001b[0m     \u001b[1;32mreturn\u001b[0m\u001b[1;33m(\u001b[0m\u001b[0mTree\u001b[0m\u001b[1;33m)\u001b[0m\u001b[1;33m\u001b[0m\u001b[0m\n",
      "\u001b[1;32m<ipython-input-19-84d9a52ae7fc>\u001b[0m in \u001b[0;36mMakeTreeM\u001b[1;34m(data_train, labels)\u001b[0m\n\u001b[0;32m     45\u001b[0m                 \u001b[0mDnew_temp\u001b[0m \u001b[1;33m=\u001b[0m \u001b[0mDnew\u001b[0m\u001b[1;33m[\u001b[0m\u001b[0mi\u001b[0m\u001b[1;33m]\u001b[0m\u001b[1;33m\u001b[0m\u001b[0m\n\u001b[0;32m     46\u001b[0m                 \u001b[0mnewlables\u001b[0m \u001b[1;33m=\u001b[0m \u001b[0mlabels\u001b[0m\u001b[1;33m[\u001b[0m\u001b[1;33m:\u001b[0m\u001b[1;33m]\u001b[0m\u001b[1;33m\u001b[0m\u001b[0m\n\u001b[1;32m---> 47\u001b[1;33m                 \u001b[0mTree\u001b[0m\u001b[1;33m[\u001b[0m\u001b[0mNode_Name\u001b[0m\u001b[1;33m]\u001b[0m\u001b[1;33m[\u001b[0m\u001b[0mi\u001b[0m\u001b[1;33m]\u001b[0m \u001b[1;33m=\u001b[0m \u001b[0mMakeTreeM\u001b[0m\u001b[1;33m(\u001b[0m \u001b[0mDnew_temp\u001b[0m \u001b[1;33m,\u001b[0m \u001b[0mnewlables\u001b[0m\u001b[1;33m)\u001b[0m\u001b[1;33m\u001b[0m\u001b[0m\n\u001b[0m\u001b[0;32m     48\u001b[0m \u001b[1;33m\u001b[0m\u001b[0m\n\u001b[0;32m     49\u001b[0m     \u001b[1;32mreturn\u001b[0m\u001b[1;33m(\u001b[0m\u001b[0mTree\u001b[0m\u001b[1;33m)\u001b[0m\u001b[1;33m\u001b[0m\u001b[0m\n",
      "\u001b[1;32m<ipython-input-19-84d9a52ae7fc>\u001b[0m in \u001b[0;36mMakeTreeM\u001b[1;34m(data_train, labels)\u001b[0m\n\u001b[0;32m     21\u001b[0m \u001b[1;33m\u001b[0m\u001b[0m\n\u001b[0;32m     22\u001b[0m         \u001b[1;32mif\u001b[0m \u001b[0mM\u001b[0m \u001b[1;32mis\u001b[0m \u001b[1;32mNone\u001b[0m\u001b[1;33m:\u001b[0m\u001b[1;33m\u001b[0m\u001b[0m\n\u001b[1;32m---> 23\u001b[1;33m             \u001b[0mNode_Name\u001b[0m \u001b[1;33m=\u001b[0m \u001b[0mlabels\u001b[0m\u001b[1;33m[\u001b[0m\u001b[0mS\u001b[0m\u001b[1;33m]\u001b[0m\u001b[1;33m\u001b[0m\u001b[0m\n\u001b[0m\u001b[0;32m     24\u001b[0m         \u001b[1;32melse\u001b[0m\u001b[1;33m:\u001b[0m\u001b[1;33m\u001b[0m\u001b[0m\n\u001b[0;32m     25\u001b[0m             \u001b[0mNode_Name\u001b[0m \u001b[1;33m=\u001b[0m \u001b[0mlabels\u001b[0m\u001b[1;33m[\u001b[0m\u001b[0mS\u001b[0m\u001b[1;33m]\u001b[0m \u001b[1;33m+\u001b[0m \u001b[1;34m'<'\u001b[0m \u001b[1;33m+\u001b[0m \u001b[0mstr\u001b[0m\u001b[1;33m(\u001b[0m\u001b[0mM\u001b[0m\u001b[1;33m)\u001b[0m\u001b[1;33m\u001b[0m\u001b[0m\n",
      "\u001b[1;31mTypeError\u001b[0m: list indices must be integers or slices, not NoneType"
     ]
    }
   ],
   "source": [
    "\n",
    "print(newlabels)\n",
    "\n",
    "tree1 = MakeTreeM(data_train , newlabels)"
   ]
  },
  {
   "cell_type": "code",
   "execution_count": 30,
   "metadata": {},
   "outputs": [
    {
     "data": {
      "text/plain": [
       "0.8653409924402704"
      ]
     },
     "execution_count": 30,
     "metadata": {},
     "output_type": "execute_result"
    }
   ],
   "source": [
    "calEn(data_train)"
   ]
  }
 ],
 "metadata": {
  "kernelspec": {
   "display_name": "Python 3",
   "language": "python",
   "name": "python3"
  },
  "language_info": {
   "codemirror_mode": {
    "name": "ipython",
    "version": 3
   },
   "file_extension": ".py",
   "mimetype": "text/x-python",
   "name": "python",
   "nbconvert_exporter": "python",
   "pygments_lexer": "ipython3",
   "version": "3.6.3"
  }
 },
 "nbformat": 4,
 "nbformat_minor": 2
}
